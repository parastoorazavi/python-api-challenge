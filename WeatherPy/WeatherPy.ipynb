{
 "cells": [
  {
   "cell_type": "markdown",
   "metadata": {},
   "source": [
    "## Observations and Insights\n",
    "\n",
    "- There is a strong negative correlation between Temperature and Latitude in Northern Hemisphere. \n",
    "\n",
    "- There is a strong positive correlation between Temperature and Latitude in Southern Hemisphere. \n",
    "\n",
    "- There is a very low correlation between Latitude and other elements in DataFrame such as humidity, wind speed and cloudiness at Southern and Northern Hemisphere. \n",
    "\n",
    "- By looking at scatter plots, hardly we can say there is any relationship between Latitude and other elements in DataFrame such as humidity, wind speed and cloudiness."
   ]
  },
  {
   "cell_type": "code",
   "execution_count": 1,
   "metadata": {
    "ExecuteTime": {
     "end_time": "2020-10-13T11:31:14.157675Z",
     "start_time": "2020-10-13T11:31:12.312040Z"
    }
   },
   "outputs": [],
   "source": [
    "import matplotlib.pyplot as plt\n",
    "import numpy as np\n",
    "import pandas as pd\n",
    "import json\n",
    "import requests\n",
    "import random\n",
    "from citipy import citipy\n",
    "from api_keys import weather_api_key\n",
    "from pprint import pprint\n",
    "from scipy.stats import linregress\n",
    "\n",
    "random.seed(42)"
   ]
  },
  {
   "cell_type": "code",
   "execution_count": 2,
   "metadata": {
    "ExecuteTime": {
     "end_time": "2020-10-13T11:31:14.484292Z",
     "start_time": "2020-10-13T11:31:14.178615Z"
    }
   },
   "outputs": [
    {
     "data": {
      "text/plain": [
       "643"
      ]
     },
     "execution_count": 2,
     "metadata": {},
     "output_type": "execute_result"
    }
   ],
   "source": [
    "# set up lists to hold reponse info\n",
    "lat = []\n",
    "lon = []\n",
    "cities = []\n",
    "\n",
    "# Loop through the list of lat, lon and cities and perform a request for data on each\n",
    "for i in range(0,643):\n",
    "    lat.append(random.uniform(-90, 90))\n",
    "    lon.append(random.uniform(-180, 180))\n",
    "    cities.append(citipy.nearest_city(lat[i], lon[i]).city_name)\n",
    "    \n",
    "len(cities)"
   ]
  },
  {
   "cell_type": "code",
   "execution_count": 3,
   "metadata": {
    "ExecuteTime": {
     "end_time": "2020-10-13T11:31:15.308629Z",
     "start_time": "2020-10-13T11:31:15.305880Z"
    }
   },
   "outputs": [],
   "source": [
    "# Build query URL\n",
    "url = \"http://api.openweathermap.org/data/2.5/weather?\"\n",
    "units = \"Imperial\"\n",
    "query_url = f\"{url}appid={weather_api_key}&units={units}&q=\""
   ]
  },
  {
   "cell_type": "code",
   "execution_count": 4,
   "metadata": {
    "ExecuteTime": {
     "end_time": "2020-10-13T11:32:51.943777Z",
     "start_time": "2020-10-13T11:31:16.506168Z"
    }
   },
   "outputs": [
    {
     "name": "stdout",
     "output_type": "stream",
     "text": [
      "Beginning Data Retrieval\n",
      "-----------------------------\n",
      "Processing Record 1 of Set 1 | kapaa\n",
      "Processing Record 2 of Set 1 | ancud\n",
      "Processing Record 3 of Set 1 | gazli\n",
      "Processing Record 4 of Set 1 | college\n",
      "City not found. Skipping...\n",
      "Processing Record 5 of Set 1 | cape town\n",
      "Processing Record 6 of Set 1 | punta arenas\n",
      "Processing Record 7 of Set 1 | sabha\n",
      "Processing Record 8 of Set 1 | port alfred\n",
      "Processing Record 9 of Set 1 | provideniya\n",
      "Processing Record 10 of Set 1 | isilkul\n",
      "Processing Record 11 of Set 1 | rikitea\n",
      "Processing Record 12 of Set 1 | upernavik\n",
      "Processing Record 13 of Set 1 | mataura\n",
      "Processing Record 14 of Set 1 | pudozh\n",
      "Processing Record 15 of Set 1 | kolyvan\n",
      "Processing Record 16 of Set 1 | butaritari\n",
      "Processing Record 17 of Set 1 | gobabis\n",
      "Processing Record 18 of Set 1 | soligalich\n",
      "Processing Record 19 of Set 1 | kajaani\n",
      "Processing Record 20 of Set 1 | kapaa\n",
      "Processing Record 21 of Set 1 | coihaique\n",
      "Processing Record 22 of Set 1 | punta arenas\n",
      "Processing Record 23 of Set 1 | ushuaia\n",
      "Processing Record 24 of Set 1 | codrington\n",
      "Processing Record 25 of Set 1 | puerto ayora\n",
      "Processing Record 26 of Set 1 | batemans bay\n",
      "Processing Record 27 of Set 1 | umm lajj\n",
      "Processing Record 28 of Set 1 | busselton\n",
      "Processing Record 29 of Set 1 | ushuaia\n",
      "City not found. Skipping...\n",
      "Processing Record 30 of Set 1 | kavaratti\n",
      "Processing Record 31 of Set 1 | tura\n",
      "Processing Record 32 of Set 1 | vaini\n",
      "Processing Record 33 of Set 1 | lebu\n",
      "Processing Record 34 of Set 1 | tuatapere\n",
      "Processing Record 35 of Set 1 | pangnirtung\n",
      "Processing Record 36 of Set 1 | ribeira grande\n",
      "City not found. Skipping...\n",
      "Processing Record 37 of Set 1 | ancud\n",
      "Processing Record 38 of Set 1 | la cruz\n",
      "Processing Record 39 of Set 1 | airai\n",
      "Processing Record 40 of Set 1 | puerto ayora\n",
      "City not found. Skipping...\n",
      "Processing Record 41 of Set 1 | mataura\n",
      "Processing Record 42 of Set 1 | port alfred\n",
      "Processing Record 43 of Set 1 | grindavik\n",
      "Processing Record 44 of Set 1 | ushuaia\n",
      "City not found. Skipping...\n",
      "Processing Record 45 of Set 1 | tiksi\n",
      "Processing Record 46 of Set 1 | busselton\n",
      "Processing Record 47 of Set 1 | tripoli\n",
      "City not found. Skipping...\n",
      "Processing Record 48 of Set 1 | mar del plata\n",
      "Processing Record 49 of Set 1 | kirakira\n",
      "City not found. Skipping...\n",
      "Processing Record 0 of Set 2 | san patricio\n",
      "City not found. Skipping...\n",
      "City not found. Skipping...\n",
      "Processing Record 1 of Set 2 | guerrero negro\n",
      "Processing Record 2 of Set 2 | althofen\n",
      "Processing Record 3 of Set 2 | coburg\n",
      "Processing Record 4 of Set 2 | ushuaia\n",
      "Processing Record 5 of Set 2 | bluff\n",
      "Processing Record 6 of Set 2 | zhigansk\n",
      "Processing Record 7 of Set 2 | avarua\n",
      "Processing Record 8 of Set 2 | cherskiy\n",
      "Processing Record 9 of Set 2 | hermanus\n",
      "Processing Record 10 of Set 2 | albany\n",
      "Processing Record 11 of Set 2 | port hardy\n",
      "Processing Record 12 of Set 2 | bulungu\n",
      "Processing Record 13 of Set 2 | port lincoln\n",
      "Processing Record 14 of Set 2 | puerto ayora\n",
      "Processing Record 15 of Set 2 | kalmunai\n",
      "Processing Record 16 of Set 2 | ushuaia\n",
      "City not found. Skipping...\n",
      "Processing Record 17 of Set 2 | namibe\n",
      "Processing Record 18 of Set 2 | punta arenas\n",
      "Processing Record 19 of Set 2 | sundumbili\n",
      "Processing Record 20 of Set 2 | castro\n",
      "Processing Record 21 of Set 2 | port alfred\n",
      "Processing Record 22 of Set 2 | hobart\n",
      "Processing Record 23 of Set 2 | kenai\n",
      "City not found. Skipping...\n",
      "Processing Record 24 of Set 2 | rikitea\n",
      "Processing Record 25 of Set 2 | honningsvag\n",
      "Processing Record 26 of Set 2 | bengkulu\n",
      "Processing Record 27 of Set 2 | bonnyville\n",
      "Processing Record 28 of Set 2 | ushuaia\n",
      "Processing Record 29 of Set 2 | georgetown\n",
      "Processing Record 30 of Set 2 | gazojak\n",
      "Processing Record 31 of Set 2 | barrow\n",
      "Processing Record 32 of Set 2 | puerto quijarro\n",
      "Processing Record 33 of Set 2 | thompson\n",
      "Processing Record 34 of Set 2 | arraial do cabo\n",
      "Processing Record 35 of Set 2 | lima\n",
      "Processing Record 36 of Set 2 | hobart\n",
      "City not found. Skipping...\n",
      "Processing Record 37 of Set 2 | hilo\n",
      "Processing Record 38 of Set 2 | saskylakh\n",
      "Processing Record 39 of Set 2 | chokurdakh\n",
      "Processing Record 40 of Set 2 | fort nelson\n",
      "Processing Record 41 of Set 2 | puerto ayora\n",
      "Processing Record 42 of Set 2 | avarua\n",
      "Processing Record 43 of Set 2 | isangel\n",
      "Processing Record 44 of Set 2 | busselton\n",
      "Processing Record 45 of Set 2 | pitimbu\n",
      "Processing Record 46 of Set 2 | leningradskiy\n",
      "Processing Record 47 of Set 2 | karaikkudi\n",
      "Processing Record 48 of Set 2 | ushuaia\n",
      "Processing Record 49 of Set 2 | mehamn\n",
      "Processing Record 0 of Set 3 | port blair\n",
      "Processing Record 1 of Set 3 | port elizabeth\n",
      "City not found. Skipping...\n",
      "Processing Record 2 of Set 3 | bluff\n",
      "Processing Record 3 of Set 3 | punta arenas\n",
      "Processing Record 4 of Set 3 | sur\n",
      "Processing Record 5 of Set 3 | rikitea\n",
      "Processing Record 6 of Set 3 | thompson\n",
      "Processing Record 7 of Set 3 | sabya\n",
      "Processing Record 8 of Set 3 | nyimba\n",
      "Processing Record 9 of Set 3 | namatanai\n",
      "Processing Record 10 of Set 3 | mahebourg\n",
      "Processing Record 11 of Set 3 | chuy\n",
      "Processing Record 12 of Set 3 | havelock\n",
      "Processing Record 13 of Set 3 | geraldton\n",
      "Processing Record 14 of Set 3 | cape town\n",
      "Processing Record 15 of Set 3 | leningradskiy\n",
      "Processing Record 16 of Set 3 | punta arenas\n",
      "Processing Record 17 of Set 3 | hobart\n",
      "Processing Record 18 of Set 3 | ust-kuyga\n",
      "Processing Record 19 of Set 3 | rikitea\n",
      "Processing Record 20 of Set 3 | barsovo\n",
      "Processing Record 21 of Set 3 | butaritari\n",
      "Processing Record 22 of Set 3 | kapaa\n",
      "Processing Record 23 of Set 3 | iqaluit\n",
      "Processing Record 24 of Set 3 | hasaki\n",
      "Processing Record 25 of Set 3 | rikitea\n",
      "Processing Record 26 of Set 3 | bredasdorp\n",
      "City not found. Skipping...\n",
      "Processing Record 27 of Set 3 | glenwood springs\n",
      "Processing Record 28 of Set 3 | mantua\n",
      "Processing Record 29 of Set 3 | lorengau\n",
      "Processing Record 30 of Set 3 | palmer\n",
      "Processing Record 31 of Set 3 | lima\n",
      "Processing Record 32 of Set 3 | albany\n",
      "Processing Record 33 of Set 3 | mantua\n",
      "Processing Record 34 of Set 3 | foca\n",
      "City not found. Skipping...\n",
      "Processing Record 35 of Set 3 | hobart\n",
      "Processing Record 36 of Set 3 | andenes\n",
      "Processing Record 37 of Set 3 | zelenogorsk\n",
      "Processing Record 38 of Set 3 | rikitea\n",
      "Processing Record 39 of Set 3 | swan hill\n",
      "City not found. Skipping...\n",
      "Processing Record 40 of Set 3 | yellowknife\n",
      "Processing Record 41 of Set 3 | mataura\n",
      "City not found. Skipping...\n",
      "Processing Record 42 of Set 3 | mahajanga\n",
      "Processing Record 43 of Set 3 | tuatapere\n",
      "Processing Record 44 of Set 3 | komsomolskiy\n",
      "Processing Record 45 of Set 3 | ayan\n",
      "Processing Record 46 of Set 3 | busselton\n",
      "Processing Record 47 of Set 3 | coffs harbour\n",
      "City not found. Skipping...\n",
      "City not found. Skipping...\n",
      "Processing Record 48 of Set 3 | sitka\n",
      "Processing Record 49 of Set 3 | batagay-alyta\n",
      "Processing Record 0 of Set 4 | albany\n",
      "Processing Record 1 of Set 4 | envira\n",
      "Processing Record 2 of Set 4 | thompson\n",
      "Processing Record 3 of Set 4 | punta arenas\n",
      "Processing Record 4 of Set 4 | flinders\n",
      "Processing Record 5 of Set 4 | qaanaaq\n",
      "Processing Record 6 of Set 4 | ponta do sol\n",
      "City not found. Skipping...\n",
      "Processing Record 7 of Set 4 | tuktoyaktuk\n",
      "Processing Record 8 of Set 4 | yellowknife\n",
      "Processing Record 9 of Set 4 | qaanaaq\n",
      "Processing Record 10 of Set 4 | mar del plata\n",
      "Processing Record 11 of Set 4 | yarmouth\n",
      "Processing Record 12 of Set 4 | kidal\n",
      "Processing Record 13 of Set 4 | masunga\n",
      "Processing Record 14 of Set 4 | mahebourg\n",
      "Processing Record 15 of Set 4 | bluff\n",
      "Processing Record 16 of Set 4 | colombo\n",
      "City not found. Skipping...\n",
      "Processing Record 17 of Set 4 | avera\n",
      "Processing Record 18 of Set 4 | saint george\n",
      "Processing Record 19 of Set 4 | esperance\n",
      "Processing Record 20 of Set 4 | mastic beach\n",
      "Processing Record 21 of Set 4 | arraial do cabo\n",
      "Processing Record 22 of Set 4 | camana\n",
      "Processing Record 23 of Set 4 | mar del plata\n",
      "City not found. Skipping...\n",
      "Processing Record 24 of Set 4 | ostrovnoy\n",
      "Processing Record 25 of Set 4 | cape town\n",
      "Processing Record 26 of Set 4 | ushuaia\n",
      "Processing Record 27 of Set 4 | ndola\n",
      "Processing Record 28 of Set 4 | puerto del rosario\n",
      "Processing Record 29 of Set 4 | puerto ayora\n",
      "City not found. Skipping...\n",
      "Processing Record 30 of Set 4 | jasper\n",
      "Processing Record 31 of Set 4 | hermanus\n",
      "Processing Record 32 of Set 4 | codrington\n",
      "Processing Record 33 of Set 4 | novobirilyussy\n"
     ]
    },
    {
     "name": "stdout",
     "output_type": "stream",
     "text": [
      "Processing Record 34 of Set 4 | brownwood\n",
      "Processing Record 35 of Set 4 | vaini\n",
      "Processing Record 36 of Set 4 | saldanha\n",
      "Processing Record 37 of Set 4 | kenai\n",
      "Processing Record 38 of Set 4 | mahajanga\n",
      "Processing Record 39 of Set 4 | saint-philippe\n",
      "Processing Record 40 of Set 4 | puerto ayora\n",
      "Processing Record 41 of Set 4 | kapaa\n",
      "Processing Record 42 of Set 4 | hami\n",
      "Processing Record 43 of Set 4 | ushuaia\n",
      "Processing Record 44 of Set 4 | bluff\n",
      "Processing Record 45 of Set 4 | hilo\n",
      "Processing Record 46 of Set 4 | esperance\n",
      "Processing Record 47 of Set 4 | ciamis\n",
      "Processing Record 48 of Set 4 | nikolskoye\n",
      "Processing Record 49 of Set 4 | butaritari\n",
      "Processing Record 0 of Set 5 | ostrovnoy\n",
      "City not found. Skipping...\n",
      "Processing Record 1 of Set 5 | enkoping\n",
      "Processing Record 2 of Set 5 | kayerkan\n",
      "Processing Record 3 of Set 5 | san cristobal\n",
      "City not found. Skipping...\n",
      "Processing Record 4 of Set 5 | mullheim\n",
      "Processing Record 5 of Set 5 | jovellanos\n",
      "Processing Record 6 of Set 5 | ushuaia\n",
      "Processing Record 7 of Set 5 | puerto madryn\n",
      "Processing Record 8 of Set 5 | atuona\n",
      "Processing Record 9 of Set 5 | souillac\n",
      "Processing Record 10 of Set 5 | kapaa\n",
      "Processing Record 11 of Set 5 | ondjiva\n",
      "Processing Record 12 of Set 5 | puerto ayora\n",
      "Processing Record 13 of Set 5 | cairns\n",
      "City not found. Skipping...\n",
      "Processing Record 14 of Set 5 | baykit\n",
      "Processing Record 15 of Set 5 | vaini\n",
      "Processing Record 16 of Set 5 | carnarvon\n",
      "City not found. Skipping...\n",
      "Processing Record 17 of Set 5 | bengkulu\n",
      "Processing Record 18 of Set 5 | agaro\n",
      "Processing Record 19 of Set 5 | castro\n",
      "City not found. Skipping...\n",
      "Processing Record 20 of Set 5 | mahebourg\n",
      "Processing Record 21 of Set 5 | rikitea\n",
      "Processing Record 22 of Set 5 | atuona\n",
      "Processing Record 23 of Set 5 | kapaa\n",
      "Processing Record 24 of Set 5 | maun\n",
      "Processing Record 25 of Set 5 | port alfred\n",
      "Processing Record 26 of Set 5 | cape town\n",
      "Processing Record 27 of Set 5 | ushuaia\n",
      "Processing Record 28 of Set 5 | ushuaia\n",
      "Processing Record 29 of Set 5 | torbay\n",
      "City not found. Skipping...\n",
      "Processing Record 30 of Set 5 | mataura\n",
      "Processing Record 31 of Set 5 | bredasdorp\n",
      "Processing Record 32 of Set 5 | upernavik\n",
      "Processing Record 33 of Set 5 | panzhihua\n",
      "Processing Record 34 of Set 5 | tashigang\n",
      "Processing Record 35 of Set 5 | yellowknife\n",
      "Processing Record 36 of Set 5 | punta arenas\n",
      "City not found. Skipping...\n",
      "Processing Record 37 of Set 5 | acapulco\n",
      "Processing Record 38 of Set 5 | yumen\n",
      "Processing Record 39 of Set 5 | port alfred\n",
      "Processing Record 40 of Set 5 | port hardy\n",
      "Processing Record 41 of Set 5 | nikolskoye\n",
      "Processing Record 42 of Set 5 | vaini\n",
      "Processing Record 43 of Set 5 | souillac\n",
      "Processing Record 44 of Set 5 | tasiilaq\n",
      "Processing Record 45 of Set 5 | kapaa\n",
      "Processing Record 46 of Set 5 | mandali\n",
      "Processing Record 47 of Set 5 | albany\n",
      "Processing Record 48 of Set 5 | pudozh\n",
      "Processing Record 49 of Set 5 | kaitangata\n",
      "Processing Record 0 of Set 6 | saint anthony\n",
      "Processing Record 1 of Set 6 | arraias\n",
      "Processing Record 2 of Set 6 | oriximina\n",
      "Processing Record 3 of Set 6 | suntar\n",
      "Processing Record 4 of Set 6 | bluff\n",
      "Processing Record 5 of Set 6 | xiamen\n",
      "Processing Record 6 of Set 6 | vila franca do campo\n",
      "Processing Record 7 of Set 6 | nikolskoye\n",
      "Processing Record 8 of Set 6 | busselton\n",
      "Processing Record 9 of Set 6 | bouafle\n",
      "Processing Record 10 of Set 6 | hithadhoo\n",
      "Processing Record 11 of Set 6 | esperance\n",
      "Processing Record 12 of Set 6 | anchorage\n",
      "Processing Record 13 of Set 6 | thompson\n",
      "Processing Record 14 of Set 6 | sokoni\n",
      "Processing Record 15 of Set 6 | alofi\n",
      "Processing Record 16 of Set 6 | yellowknife\n",
      "Processing Record 17 of Set 6 | busselton\n",
      "Processing Record 18 of Set 6 | port augusta\n",
      "Processing Record 19 of Set 6 | lewisville\n",
      "Processing Record 20 of Set 6 | bluff\n",
      "Processing Record 21 of Set 6 | busselton\n",
      "Processing Record 22 of Set 6 | meulaboh\n",
      "Processing Record 23 of Set 6 | garmsar\n",
      "City not found. Skipping...\n",
      "Processing Record 24 of Set 6 | punta arenas\n",
      "Processing Record 25 of Set 6 | hamilton\n",
      "Processing Record 26 of Set 6 | nioro\n",
      "Processing Record 27 of Set 6 | sao filipe\n",
      "Processing Record 28 of Set 6 | port hawkesbury\n",
      "Processing Record 29 of Set 6 | bloomingdale\n",
      "Processing Record 30 of Set 6 | rikitea\n",
      "Processing Record 31 of Set 6 | rikitea\n",
      "Processing Record 32 of Set 6 | sabang\n",
      "Processing Record 33 of Set 6 | punta arenas\n",
      "Processing Record 34 of Set 6 | hithadhoo\n",
      "City not found. Skipping...\n",
      "Processing Record 35 of Set 6 | mataura\n",
      "Processing Record 36 of Set 6 | punta arenas\n",
      "Processing Record 37 of Set 6 | vaini\n",
      "Processing Record 38 of Set 6 | la palma\n",
      "Processing Record 39 of Set 6 | longyearbyen\n",
      "Processing Record 40 of Set 6 | fortuna\n",
      "Processing Record 41 of Set 6 | klaksvik\n",
      "Processing Record 42 of Set 6 | kemijarvi\n",
      "Processing Record 43 of Set 6 | georgetown\n",
      "Processing Record 44 of Set 6 | mataura\n",
      "Processing Record 45 of Set 6 | husavik\n",
      "Processing Record 46 of Set 6 | tasiilaq\n",
      "Processing Record 47 of Set 6 | port alfred\n",
      "Processing Record 48 of Set 6 | rikitea\n",
      "Processing Record 49 of Set 6 | punta cardon\n",
      "Processing Record 0 of Set 7 | tuktoyaktuk\n",
      "Processing Record 1 of Set 7 | komsomolskoye\n",
      "Processing Record 2 of Set 7 | dauphin\n",
      "Processing Record 3 of Set 7 | goderich\n",
      "City not found. Skipping...\n",
      "Processing Record 4 of Set 7 | qaanaaq\n",
      "City not found. Skipping...\n",
      "Processing Record 5 of Set 7 | severo-kurilsk\n",
      "Processing Record 6 of Set 7 | castro\n",
      "Processing Record 7 of Set 7 | lompoc\n",
      "Processing Record 8 of Set 7 | mataura\n",
      "Processing Record 9 of Set 7 | ushuaia\n",
      "Processing Record 10 of Set 7 | morant bay\n",
      "Processing Record 11 of Set 7 | mahebourg\n",
      "Processing Record 12 of Set 7 | camacha\n",
      "Processing Record 13 of Set 7 | nemuro\n",
      "Processing Record 14 of Set 7 | atkarsk\n",
      "Processing Record 15 of Set 7 | hasaki\n",
      "Processing Record 16 of Set 7 | huambo\n",
      "Processing Record 17 of Set 7 | katsuura\n",
      "Processing Record 18 of Set 7 | kodiak\n",
      "Processing Record 19 of Set 7 | ushuaia\n",
      "Processing Record 20 of Set 7 | bradu\n",
      "Processing Record 21 of Set 7 | rikitea\n",
      "Processing Record 22 of Set 7 | amangarh\n",
      "City not found. Skipping...\n",
      "Processing Record 23 of Set 7 | atuona\n",
      "Processing Record 24 of Set 7 | ushuaia\n",
      "Processing Record 25 of Set 7 | lebu\n",
      "Processing Record 26 of Set 7 | bluff\n",
      "Processing Record 27 of Set 7 | kotka\n",
      "Processing Record 28 of Set 7 | leningradskiy\n",
      "Processing Record 29 of Set 7 | valdosta\n",
      "Processing Record 30 of Set 7 | albany\n",
      "Processing Record 31 of Set 7 | victoria\n",
      "Processing Record 32 of Set 7 | yellowknife\n",
      "Processing Record 33 of Set 7 | qandala\n",
      "Processing Record 34 of Set 7 | atuona\n",
      "Processing Record 35 of Set 7 | presidencia roque saenz pena\n",
      "Processing Record 36 of Set 7 | kaseda\n",
      "Processing Record 37 of Set 7 | bambous virieux\n",
      "Processing Record 38 of Set 7 | nelson bay\n",
      "Processing Record 39 of Set 7 | visby\n",
      "Processing Record 40 of Set 7 | pauini\n",
      "Processing Record 41 of Set 7 | ahipara\n",
      "Processing Record 42 of Set 7 | namibe\n",
      "City not found. Skipping...\n",
      "Processing Record 43 of Set 7 | sao filipe\n",
      "Processing Record 44 of Set 7 | ushuaia\n",
      "Processing Record 45 of Set 7 | yashkul\n",
      "Processing Record 46 of Set 7 | miles city\n",
      "Processing Record 47 of Set 7 | kavieng\n",
      "Processing Record 48 of Set 7 | hithadhoo\n",
      "Processing Record 49 of Set 7 | bluff\n",
      "Processing Record 0 of Set 8 | paraiso\n",
      "Processing Record 1 of Set 8 | bredasdorp\n",
      "Processing Record 2 of Set 8 | hilo\n",
      "Processing Record 3 of Set 8 | chokurdakh\n",
      "Processing Record 4 of Set 8 | atuona\n",
      "Processing Record 5 of Set 8 | lerwick\n",
      "Processing Record 6 of Set 8 | felanitx\n",
      "Processing Record 7 of Set 8 | albany\n",
      "Processing Record 8 of Set 8 | qaanaaq\n",
      "Processing Record 9 of Set 8 | carutapera\n",
      "City not found. Skipping...\n",
      "Processing Record 10 of Set 8 | batagay-alyta\n",
      "Processing Record 11 of Set 8 | busselton\n",
      "Processing Record 12 of Set 8 | honiara\n",
      "Processing Record 13 of Set 8 | bontang\n",
      "Processing Record 14 of Set 8 | pitrufquen\n",
      "Processing Record 15 of Set 8 | butaritari\n",
      "Processing Record 16 of Set 8 | atuona\n",
      "Processing Record 17 of Set 8 | groningen\n",
      "Processing Record 18 of Set 8 | kelo\n",
      "Processing Record 19 of Set 8 | porto velho\n",
      "Processing Record 20 of Set 8 | saint-philippe\n",
      "Processing Record 21 of Set 8 | pochutla\n",
      "Processing Record 22 of Set 8 | bethel\n",
      "Processing Record 23 of Set 8 | shu\n",
      "Processing Record 24 of Set 8 | nanortalik\n",
      "Processing Record 25 of Set 8 | wuxue\n"
     ]
    },
    {
     "name": "stdout",
     "output_type": "stream",
     "text": [
      "City not found. Skipping...\n",
      "Processing Record 26 of Set 8 | hermanus\n",
      "Processing Record 27 of Set 8 | san policarpo\n",
      "City not found. Skipping...\n",
      "Processing Record 28 of Set 8 | bonthe\n",
      "Processing Record 29 of Set 8 | ribeira grande\n",
      "Processing Record 30 of Set 8 | lompoc\n",
      "Processing Record 31 of Set 8 | lata\n",
      "Processing Record 32 of Set 8 | bambous virieux\n",
      "City not found. Skipping...\n",
      "Processing Record 33 of Set 8 | namtsy\n",
      "Processing Record 34 of Set 8 | tupiza\n",
      "Processing Record 35 of Set 8 | hami\n",
      "Processing Record 36 of Set 8 | nome\n",
      "Processing Record 37 of Set 8 | port alfred\n",
      "Processing Record 38 of Set 8 | leningradskiy\n",
      "Processing Record 39 of Set 8 | praia da vitoria\n",
      "Processing Record 40 of Set 8 | port alfred\n",
      "City not found. Skipping...\n",
      "Processing Record 41 of Set 8 | hasaki\n",
      "Processing Record 42 of Set 8 | albany\n",
      "Processing Record 43 of Set 8 | cidreira\n",
      "Processing Record 44 of Set 8 | hermanus\n",
      "Processing Record 45 of Set 8 | kampong cham\n",
      "Processing Record 46 of Set 8 | mataura\n",
      "Processing Record 47 of Set 8 | kamenka\n",
      "Processing Record 48 of Set 8 | hobart\n",
      "Processing Record 49 of Set 8 | cape town\n",
      "Processing Record 0 of Set 9 | castro\n",
      "Processing Record 1 of Set 9 | albany\n",
      "City not found. Skipping...\n",
      "Processing Record 2 of Set 9 | chuy\n",
      "Processing Record 3 of Set 9 | ulundi\n",
      "Processing Record 4 of Set 9 | ponta do sol\n",
      "Processing Record 5 of Set 9 | esperance\n",
      "Processing Record 6 of Set 9 | mar del plata\n",
      "Processing Record 7 of Set 9 | puerto ayora\n",
      "Processing Record 8 of Set 9 | umm kaddadah\n",
      "Processing Record 9 of Set 9 | qaanaaq\n",
      "City not found. Skipping...\n",
      "Processing Record 10 of Set 9 | plettenberg bay\n",
      "Processing Record 11 of Set 9 | lasa\n",
      "Processing Record 12 of Set 9 | port alfred\n",
      "Processing Record 13 of Set 9 | lorengau\n",
      "Processing Record 14 of Set 9 | busselton\n",
      "Processing Record 15 of Set 9 | saint-francois\n",
      "Processing Record 16 of Set 9 | buraydah\n",
      "City not found. Skipping...\n",
      "Processing Record 17 of Set 9 | jiaojiang\n",
      "Processing Record 18 of Set 9 | katsuura\n",
      "Processing Record 19 of Set 9 | cockburn town\n",
      "Processing Record 20 of Set 9 | mwense\n",
      "Processing Record 21 of Set 9 | kodiak\n",
      "Processing Record 22 of Set 9 | busselton\n",
      "Processing Record 23 of Set 9 | rikitea\n",
      "Processing Record 24 of Set 9 | butaritari\n",
      "Processing Record 25 of Set 9 | lorengau\n",
      "City not found. Skipping...\n",
      "Processing Record 26 of Set 9 | stornoway\n",
      "Processing Record 27 of Set 9 | goryachegorsk\n",
      "Processing Record 28 of Set 9 | rikitea\n",
      "Processing Record 29 of Set 9 | tuktoyaktuk\n",
      "Processing Record 30 of Set 9 | tiksi\n",
      "Processing Record 31 of Set 9 | nikolskoye\n",
      "Processing Record 32 of Set 9 | saskylakh\n",
      "Processing Record 33 of Set 9 | carnarvon\n",
      "Processing Record 34 of Set 9 | bredasdorp\n",
      "Processing Record 35 of Set 9 | victoria\n",
      "Processing Record 36 of Set 9 | fowa\n",
      "Processing Record 37 of Set 9 | tigil\n",
      "Processing Record 38 of Set 9 | punta arenas\n",
      "Processing Record 39 of Set 9 | hobart\n",
      "Processing Record 40 of Set 9 | lorengau\n",
      "Processing Record 41 of Set 9 | mataura\n",
      "Processing Record 42 of Set 9 | arman\n",
      "Processing Record 43 of Set 9 | arraial do cabo\n",
      "Processing Record 44 of Set 9 | bluff\n",
      "Processing Record 45 of Set 9 | jamestown\n",
      "Processing Record 46 of Set 9 | hobart\n",
      "Processing Record 47 of Set 9 | cape town\n",
      "Processing Record 48 of Set 9 | mangan\n",
      "City not found. Skipping...\n",
      "Processing Record 49 of Set 9 | north bend\n",
      "Processing Record 0 of Set 10 | tautira\n",
      "Processing Record 1 of Set 10 | touros\n",
      "Processing Record 2 of Set 10 | barrow\n",
      "Processing Record 3 of Set 10 | jamestown\n",
      "Processing Record 4 of Set 10 | tiksi\n",
      "City not found. Skipping...\n",
      "Processing Record 5 of Set 10 | butaritari\n",
      "Processing Record 6 of Set 10 | sao joao da barra\n",
      "Processing Record 7 of Set 10 | rikitea\n",
      "Processing Record 8 of Set 10 | hofn\n",
      "Processing Record 9 of Set 10 | borazjan\n",
      "Processing Record 10 of Set 10 | kapaa\n",
      "Processing Record 11 of Set 10 | sioux lookout\n",
      "Processing Record 12 of Set 10 | bredasdorp\n",
      "Processing Record 13 of Set 10 | albany\n",
      "Processing Record 14 of Set 10 | castro\n",
      "Processing Record 15 of Set 10 | pangnirtung\n",
      "Processing Record 16 of Set 10 | hobart\n",
      "Processing Record 17 of Set 10 | new norfolk\n",
      "Processing Record 18 of Set 10 | rikitea\n",
      "Processing Record 19 of Set 10 | rikitea\n",
      "Processing Record 20 of Set 10 | kapaa\n",
      "Processing Record 21 of Set 10 | albany\n",
      "Processing Record 22 of Set 10 | rawson\n",
      "Processing Record 23 of Set 10 | mataura\n",
      "Processing Record 24 of Set 10 | la spezia\n",
      "Processing Record 25 of Set 10 | ferrol\n",
      "Processing Record 26 of Set 10 | doische\n",
      "Processing Record 27 of Set 10 | hermanus\n",
      "Processing Record 28 of Set 10 | barrow\n",
      "Processing Record 29 of Set 10 | novyy urgal\n",
      "Processing Record 30 of Set 10 | bonthe\n",
      "Processing Record 31 of Set 10 | barrow\n",
      "Processing Record 32 of Set 10 | touros\n",
      "City not found. Skipping...\n",
      "Processing Record 33 of Set 10 | barrow\n",
      "Processing Record 34 of Set 10 | port alfred\n",
      "Processing Record 35 of Set 10 | ushuaia\n",
      "Processing Record 36 of Set 10 | marzuq\n",
      "Processing Record 37 of Set 10 | ngunguru\n",
      "Processing Record 38 of Set 10 | goderich\n",
      "Processing Record 39 of Set 10 | hilo\n",
      "Processing Record 40 of Set 10 | seoul\n",
      "Processing Record 41 of Set 10 | tezu\n",
      "Processing Record 42 of Set 10 | sterling\n",
      "Processing Record 43 of Set 10 | puerto ayora\n",
      "Processing Record 44 of Set 10 | jamestown\n",
      "Processing Record 45 of Set 10 | tautira\n",
      "Processing Record 46 of Set 10 | cap malheureux\n",
      "Processing Record 47 of Set 10 | rikitea\n",
      "Processing Record 48 of Set 10 | barrow\n",
      "Processing Record 49 of Set 10 | palmer\n",
      "Processing Record 0 of Set 11 | busselton\n",
      "Processing Record 1 of Set 11 | palanga\n",
      "Processing Record 2 of Set 11 | biltine\n",
      "Processing Record 3 of Set 11 | rikitea\n",
      "Processing Record 4 of Set 11 | souillac\n",
      "Processing Record 5 of Set 11 | spasskoye\n",
      "Processing Record 6 of Set 11 | nikolskoye\n",
      "Processing Record 7 of Set 11 | bathsheba\n",
      "Processing Record 8 of Set 11 | ixtapa\n",
      "Processing Record 9 of Set 11 | laredo\n",
      "Processing Record 10 of Set 11 | new norfolk\n",
      "Processing Record 11 of Set 11 | carnarvon\n",
      "Processing Record 12 of Set 11 | tuy hoa\n",
      "City not found. Skipping...\n",
      "Processing Record 13 of Set 11 | dulyapino\n",
      "Processing Record 14 of Set 11 | kapaa\n",
      "Processing Record 15 of Set 11 | saskylakh\n",
      "Processing Record 16 of Set 11 | rikitea\n",
      "Processing Record 17 of Set 11 | nantucket\n",
      "Processing Record 18 of Set 11 | vaini\n",
      "Processing Record 19 of Set 11 | tornio\n",
      "Processing Record 20 of Set 11 | rikitea\n",
      "Processing Record 21 of Set 11 | kapaa\n",
      "Processing Record 22 of Set 11 | rapid valley\n",
      "Processing Record 23 of Set 11 | nova olimpia\n",
      "City not found. Skipping...\n",
      "Processing Record 24 of Set 11 | novyy yarychiv\n",
      "Processing Record 25 of Set 11 | mataura\n",
      "Processing Record 26 of Set 11 | port alfred\n",
      "Processing Record 27 of Set 11 | waycross\n",
      "Processing Record 28 of Set 11 | marrakesh\n",
      "Processing Record 29 of Set 11 | chimbote\n",
      "Processing Record 30 of Set 11 | sitka\n",
      "Processing Record 31 of Set 11 | lima\n",
      "City not found. Skipping...\n",
      "Processing Record 32 of Set 11 | kapaa\n",
      "Processing Record 33 of Set 11 | dondo\n",
      "Processing Record 34 of Set 11 | ushuaia\n",
      "Processing Record 35 of Set 11 | rikitea\n",
      "Processing Record 36 of Set 11 | rawson\n",
      "Processing Record 37 of Set 11 | albany\n",
      "Processing Record 38 of Set 11 | mar del plata\n",
      "Processing Record 39 of Set 11 | sidi ali\n",
      "Processing Record 40 of Set 11 | vitim\n",
      "Processing Record 41 of Set 11 | new norfolk\n",
      "Processing Record 42 of Set 11 | vaini\n",
      "Processing Record 43 of Set 11 | tiksi\n",
      "Processing Record 44 of Set 11 | umm kaddadah\n",
      "Processing Record 45 of Set 11 | ribeira grande\n",
      "Processing Record 46 of Set 11 | vaini\n",
      "Processing Record 47 of Set 11 | geraldton\n",
      "City not found. Skipping...\n",
      "Processing Record 48 of Set 11 | barrow\n",
      "Processing Record 49 of Set 11 | thompson\n",
      "Processing Record 0 of Set 12 | tanout\n",
      "Processing Record 1 of Set 12 | oruro\n",
      "Processing Record 2 of Set 12 | reconquista\n",
      "Processing Record 3 of Set 12 | hermanus\n",
      "Processing Record 4 of Set 12 | hermanus\n",
      "Processing Record 5 of Set 12 | upernavik\n",
      "Processing Record 6 of Set 12 | zhangjiakou\n",
      "Processing Record 7 of Set 12 | thompson\n",
      "Processing Record 8 of Set 12 | punta arenas\n",
      "Processing Record 9 of Set 12 | pyay\n",
      "Processing Record 10 of Set 12 | guerrero negro\n",
      "Processing Record 11 of Set 12 | dinard\n",
      "Processing Record 12 of Set 12 | hami\n",
      "Processing Record 13 of Set 12 | samarai\n",
      "Processing Record 14 of Set 12 | bosaso\n"
     ]
    },
    {
     "name": "stdout",
     "output_type": "stream",
     "text": [
      "Processing Record 15 of Set 12 | nishihara\n",
      "Processing Record 16 of Set 12 | san quintin\n",
      "Processing Record 17 of Set 12 | ushuaia\n",
      "Processing Record 18 of Set 12 | lebu\n",
      "Processing Record 19 of Set 12 | hermanus\n",
      "Processing Record 20 of Set 12 | jamestown\n",
      "Processing Record 21 of Set 12 | albany\n",
      "Processing Record 22 of Set 12 | new norfolk\n",
      "Processing Record 23 of Set 12 | kholmogory\n",
      "Processing Record 24 of Set 12 | monrovia\n",
      "Processing Record 25 of Set 12 | rach gia\n",
      "City not found. Skipping...\n",
      "Processing Record 26 of Set 12 | kuyanovo\n",
      "Processing Record 27 of Set 12 | jamestown\n",
      "Processing Record 28 of Set 12 | mataura\n",
      "Processing Record 29 of Set 12 | hobart\n",
      "Processing Record 30 of Set 12 | bambous virieux\n",
      "Processing Record 31 of Set 12 | san patricio\n",
      "Processing Record 32 of Set 12 | arraial do cabo\n",
      "Processing Record 33 of Set 12 | luanda\n",
      "Processing Record 34 of Set 12 | ushuaia\n",
      "Processing Record 35 of Set 12 | arraial do cabo\n",
      "Processing Record 36 of Set 12 | richards bay\n",
      "Processing Record 37 of Set 12 | sorochinsk\n",
      "Processing Record 38 of Set 12 | mataura\n",
      "Processing Record 39 of Set 12 | north myrtle beach\n",
      "Processing Record 40 of Set 12 | gazanjyk\n",
      "-----------------------------\n",
      "Data Retrieval Complete\n",
      "-----------------------------\n"
     ]
    }
   ],
   "source": [
    "# set up lists to hold reponse info\n",
    "new_city = []\n",
    "lats = []\n",
    "lons = []\n",
    "max_temps = []\n",
    "humidities = []\n",
    "cloudiness = []\n",
    "wind_speeds = []\n",
    "countries = []\n",
    "dates = []\n",
    "\n",
    "counter_one = 0\n",
    "counter_two = 1\n",
    "\n",
    "print(\"Beginning Data Retrieval\")\n",
    "print(\"-----------------------------\")\n",
    "\n",
    "# Loop through the list of cities, lat, lon, max temp, humidity, cloudiness, wind_speed, countries and dates\n",
    "# and perform a request for data on each\n",
    "\n",
    "for city in cities:\n",
    "    \n",
    "    try:\n",
    "        response = requests.get(query_url + city).json()\n",
    "        lats.append(response[\"coord\"][\"lat\"])\n",
    "        lons.append(response[\"coord\"][\"lon\"])\n",
    "        max_temps.append(response[\"main\"][\"temp_max\"])\n",
    "        humidities.append(response[\"main\"][\"humidity\"])\n",
    "        cloudiness.append(response[\"clouds\"][\"all\"])\n",
    "        wind_speeds.append(response[\"wind\"][\"speed\"])\n",
    "        countries.append(response[\"sys\"][\"country\"])\n",
    "        dates.append(response[\"dt\"])\n",
    "\n",
    "# making if condition        \n",
    "        if counter_one > 48:\n",
    "            counter_one = 0\n",
    "            counter_two += 1\n",
    "            new_city.append(city)\n",
    "        else:\n",
    "            counter_one += 1\n",
    "            new_city.append(city)\n",
    "        print(f\"Processing Record {counter_one} of Set {counter_two} | {city}\")\n",
    "    except Exception:\n",
    "        print(\"City not found. Skipping...\")\n",
    "\n",
    "print(\"-----------------------------\")\n",
    "print(\"Data Retrieval Complete\")\n",
    "print(\"-----------------------------\")   "
   ]
  },
  {
   "cell_type": "code",
   "execution_count": 5,
   "metadata": {
    "ExecuteTime": {
     "end_time": "2020-10-13T11:32:51.993721Z",
     "start_time": "2020-10-13T11:32:51.977362Z"
    }
   },
   "outputs": [
    {
     "data": {
      "text/html": [
       "<div>\n",
       "<style scoped>\n",
       "    .dataframe tbody tr th:only-of-type {\n",
       "        vertical-align: middle;\n",
       "    }\n",
       "\n",
       "    .dataframe tbody tr th {\n",
       "        vertical-align: top;\n",
       "    }\n",
       "\n",
       "    .dataframe thead th {\n",
       "        text-align: right;\n",
       "    }\n",
       "</style>\n",
       "<table border=\"1\" class=\"dataframe\">\n",
       "  <thead>\n",
       "    <tr style=\"text-align: right;\">\n",
       "      <th></th>\n",
       "      <th>City</th>\n",
       "      <th>Lat</th>\n",
       "      <th>Lng</th>\n",
       "      <th>Max Temp</th>\n",
       "      <th>Humidity</th>\n",
       "      <th>Cloudiness</th>\n",
       "      <th>Wind Speed</th>\n",
       "      <th>Country</th>\n",
       "      <th>Date</th>\n",
       "    </tr>\n",
       "  </thead>\n",
       "  <tbody>\n",
       "    <tr>\n",
       "      <th>0</th>\n",
       "      <td>kapaa</td>\n",
       "      <td>22.08</td>\n",
       "      <td>-159.32</td>\n",
       "      <td>80.60</td>\n",
       "      <td>78</td>\n",
       "      <td>40</td>\n",
       "      <td>13.87</td>\n",
       "      <td>US</td>\n",
       "      <td>1602588676</td>\n",
       "    </tr>\n",
       "    <tr>\n",
       "      <th>1</th>\n",
       "      <td>ancud</td>\n",
       "      <td>-41.87</td>\n",
       "      <td>-73.82</td>\n",
       "      <td>51.01</td>\n",
       "      <td>100</td>\n",
       "      <td>90</td>\n",
       "      <td>10.29</td>\n",
       "      <td>CL</td>\n",
       "      <td>1602588676</td>\n",
       "    </tr>\n",
       "    <tr>\n",
       "      <th>2</th>\n",
       "      <td>gazli</td>\n",
       "      <td>40.13</td>\n",
       "      <td>63.45</td>\n",
       "      <td>71.53</td>\n",
       "      <td>20</td>\n",
       "      <td>0</td>\n",
       "      <td>14.61</td>\n",
       "      <td>UZ</td>\n",
       "      <td>1602588676</td>\n",
       "    </tr>\n",
       "    <tr>\n",
       "      <th>3</th>\n",
       "      <td>college</td>\n",
       "      <td>64.86</td>\n",
       "      <td>-147.80</td>\n",
       "      <td>26.60</td>\n",
       "      <td>49</td>\n",
       "      <td>90</td>\n",
       "      <td>11.41</td>\n",
       "      <td>US</td>\n",
       "      <td>1602588677</td>\n",
       "    </tr>\n",
       "    <tr>\n",
       "      <th>4</th>\n",
       "      <td>cape town</td>\n",
       "      <td>-33.93</td>\n",
       "      <td>18.42</td>\n",
       "      <td>66.99</td>\n",
       "      <td>48</td>\n",
       "      <td>12</td>\n",
       "      <td>18.34</td>\n",
       "      <td>ZA</td>\n",
       "      <td>1602588644</td>\n",
       "    </tr>\n",
       "  </tbody>\n",
       "</table>\n",
       "</div>"
      ],
      "text/plain": [
       "        City    Lat     Lng  Max Temp  Humidity  Cloudiness  Wind Speed  \\\n",
       "0      kapaa  22.08 -159.32     80.60        78          40       13.87   \n",
       "1      ancud -41.87  -73.82     51.01       100          90       10.29   \n",
       "2      gazli  40.13   63.45     71.53        20           0       14.61   \n",
       "3    college  64.86 -147.80     26.60        49          90       11.41   \n",
       "4  cape town -33.93   18.42     66.99        48          12       18.34   \n",
       "\n",
       "  Country        Date  \n",
       "0      US  1602588676  \n",
       "1      CL  1602588676  \n",
       "2      UZ  1602588676  \n",
       "3      US  1602588677  \n",
       "4      ZA  1602588644  "
      ]
     },
     "execution_count": 5,
     "metadata": {},
     "output_type": "execute_result"
    }
   ],
   "source": [
    "# create dataframe \n",
    "city_weather_data = pd.DataFrame({\"City\":new_city,\"Lat\":lats,\"Lng\":lons,\"Max Temp\":max_temps,\"Humidity\":humidities,\"Cloudiness\":cloudiness,\"Wind Speed\":wind_speeds,\"Country\":countries,\"Date\":dates})\n",
    "city_weather_data.head()"
   ]
  },
  {
   "cell_type": "code",
   "execution_count": 6,
   "metadata": {
    "ExecuteTime": {
     "end_time": "2020-10-13T11:32:52.089555Z",
     "start_time": "2020-10-13T11:32:52.060678Z"
    }
   },
   "outputs": [
    {
     "data": {
      "text/html": [
       "<div>\n",
       "<style scoped>\n",
       "    .dataframe tbody tr th:only-of-type {\n",
       "        vertical-align: middle;\n",
       "    }\n",
       "\n",
       "    .dataframe tbody tr th {\n",
       "        vertical-align: top;\n",
       "    }\n",
       "\n",
       "    .dataframe thead th {\n",
       "        text-align: right;\n",
       "    }\n",
       "</style>\n",
       "<table border=\"1\" class=\"dataframe\">\n",
       "  <thead>\n",
       "    <tr style=\"text-align: right;\">\n",
       "      <th></th>\n",
       "      <th>Lat</th>\n",
       "      <th>Lng</th>\n",
       "      <th>Max Temp</th>\n",
       "      <th>Humidity</th>\n",
       "      <th>Cloudiness</th>\n",
       "      <th>Wind Speed</th>\n",
       "      <th>Date</th>\n",
       "    </tr>\n",
       "  </thead>\n",
       "  <tbody>\n",
       "    <tr>\n",
       "      <th>count</th>\n",
       "      <td>590.000000</td>\n",
       "      <td>590.000000</td>\n",
       "      <td>590.000000</td>\n",
       "      <td>590.000000</td>\n",
       "      <td>590.000000</td>\n",
       "      <td>590.000000</td>\n",
       "      <td>5.900000e+02</td>\n",
       "    </tr>\n",
       "    <tr>\n",
       "      <th>mean</th>\n",
       "      <td>8.083763</td>\n",
       "      <td>0.594763</td>\n",
       "      <td>59.964051</td>\n",
       "      <td>72.193220</td>\n",
       "      <td>52.127119</td>\n",
       "      <td>10.361373</td>\n",
       "      <td>1.602589e+09</td>\n",
       "    </tr>\n",
       "    <tr>\n",
       "      <th>std</th>\n",
       "      <td>40.264746</td>\n",
       "      <td>102.177377</td>\n",
       "      <td>19.225820</td>\n",
       "      <td>18.199516</td>\n",
       "      <td>36.452995</td>\n",
       "      <td>6.740603</td>\n",
       "      <td>6.394183e+01</td>\n",
       "    </tr>\n",
       "    <tr>\n",
       "      <th>min</th>\n",
       "      <td>-54.800000</td>\n",
       "      <td>-175.200000</td>\n",
       "      <td>13.100000</td>\n",
       "      <td>8.000000</td>\n",
       "      <td>0.000000</td>\n",
       "      <td>0.070000</td>\n",
       "      <td>1.602588e+09</td>\n",
       "    </tr>\n",
       "    <tr>\n",
       "      <th>25%</th>\n",
       "      <td>-29.145000</td>\n",
       "      <td>-73.970000</td>\n",
       "      <td>46.400000</td>\n",
       "      <td>63.250000</td>\n",
       "      <td>20.000000</td>\n",
       "      <td>4.710000</td>\n",
       "      <td>1.602589e+09</td>\n",
       "    </tr>\n",
       "    <tr>\n",
       "      <th>50%</th>\n",
       "      <td>6.960000</td>\n",
       "      <td>7.190000</td>\n",
       "      <td>65.660000</td>\n",
       "      <td>75.000000</td>\n",
       "      <td>51.000000</td>\n",
       "      <td>9.170000</td>\n",
       "      <td>1.602589e+09</td>\n",
       "    </tr>\n",
       "    <tr>\n",
       "      <th>75%</th>\n",
       "      <td>42.750000</td>\n",
       "      <td>93.450000</td>\n",
       "      <td>75.335000</td>\n",
       "      <td>85.000000</td>\n",
       "      <td>90.000000</td>\n",
       "      <td>14.990000</td>\n",
       "      <td>1.602589e+09</td>\n",
       "    </tr>\n",
       "    <tr>\n",
       "      <th>max</th>\n",
       "      <td>78.220000</td>\n",
       "      <td>178.420000</td>\n",
       "      <td>101.950000</td>\n",
       "      <td>100.000000</td>\n",
       "      <td>100.000000</td>\n",
       "      <td>39.150000</td>\n",
       "      <td>1.602589e+09</td>\n",
       "    </tr>\n",
       "  </tbody>\n",
       "</table>\n",
       "</div>"
      ],
      "text/plain": [
       "              Lat         Lng    Max Temp    Humidity  Cloudiness  Wind Speed  \\\n",
       "count  590.000000  590.000000  590.000000  590.000000  590.000000  590.000000   \n",
       "mean     8.083763    0.594763   59.964051   72.193220   52.127119   10.361373   \n",
       "std     40.264746  102.177377   19.225820   18.199516   36.452995    6.740603   \n",
       "min    -54.800000 -175.200000   13.100000    8.000000    0.000000    0.070000   \n",
       "25%    -29.145000  -73.970000   46.400000   63.250000   20.000000    4.710000   \n",
       "50%      6.960000    7.190000   65.660000   75.000000   51.000000    9.170000   \n",
       "75%     42.750000   93.450000   75.335000   85.000000   90.000000   14.990000   \n",
       "max     78.220000  178.420000  101.950000  100.000000  100.000000   39.150000   \n",
       "\n",
       "               Date  \n",
       "count  5.900000e+02  \n",
       "mean   1.602589e+09  \n",
       "std    6.394183e+01  \n",
       "min    1.602588e+09  \n",
       "25%    1.602589e+09  \n",
       "50%    1.602589e+09  \n",
       "75%    1.602589e+09  \n",
       "max    1.602589e+09  "
      ]
     },
     "execution_count": 6,
     "metadata": {},
     "output_type": "execute_result"
    }
   ],
   "source": [
    "# create a summary for dataframe \n",
    "city_weather_data.describe()"
   ]
  },
  {
   "cell_type": "code",
   "execution_count": 23,
   "metadata": {
    "ExecuteTime": {
     "end_time": "2020-10-13T11:37:41.245058Z",
     "start_time": "2020-10-13T11:37:41.236743Z"
    }
   },
   "outputs": [],
   "source": [
    "# output data to csv\n",
    "city_weather_data.to_csv(\"output_data/WeatherDataCities.csv\", index=False)"
   ]
  },
  {
   "cell_type": "code",
   "execution_count": 8,
   "metadata": {
    "ExecuteTime": {
     "end_time": "2020-10-13T11:32:52.225220Z",
     "start_time": "2020-10-13T11:32:52.219359Z"
    }
   },
   "outputs": [
    {
     "data": {
      "text/plain": [
       "0"
      ]
     },
     "execution_count": 8,
     "metadata": {},
     "output_type": "execute_result"
    }
   ],
   "source": [
    "#  Get the indices of cities that have humidity over 100%.\n",
    "# Make a new DataFrame equal to the city data to drop all humidity outliers by index.\n",
    "# Passing \"inplace=False\" will make a copy of the city_data DataFrame, which we call \"clean_city_data\".\n",
    "city_humidity_over_100 = city_weather_data.loc[city_weather_data[\"Humidity\"]>100]\n",
    "len(city_humidity_over_100)"
   ]
  },
  {
   "cell_type": "code",
   "execution_count": 9,
   "metadata": {
    "ExecuteTime": {
     "end_time": "2020-10-13T11:32:52.510007Z",
     "start_time": "2020-10-13T11:32:52.294054Z"
    }
   },
   "outputs": [
    {
     "data": {
      "image/png": "[encoded data removed]",
      "text/plain": [
       "<Figure size 432x288 with 1 Axes>"
      ]
     },
     "metadata": {
      "needs_background": "light"
     },
     "output_type": "display_data"
    }
   ],
   "source": [
    "# Build a scatter plot for each data type\n",
    "x_values = city_weather_data[\"Lat\"]\n",
    "y_values = city_weather_data[\"Max Temp\"]\n",
    "\n",
    "# Incorporate the other graph properties\n",
    "plt.title(\"City Latitude vs. Max Temperature (13/10/2020)\")\n",
    "plt.xlabel(\"Latitude\")\n",
    "plt.ylabel(\"Max Temperature (F)\")\n",
    "plt.scatter(x_values, y_values, edgecolors=\"black\", alpha = .85)\n",
    "plt.grid()\n",
    "\n",
    "# Save the figure\n",
    "plt.savefig(\"output_data/City Latitude vs. Max Temperature.png\")\n",
    "\n",
    "# Show plot\n",
    "plt.show()"
   ]
  },
  {
   "cell_type": "markdown",
   "metadata": {
    "ExecuteTime": {
     "end_time": "2020-10-12T15:31:38.899803Z",
     "start_time": "2020-10-12T15:31:38.896428Z"
    }
   },
   "source": [
    "We can see the data follows a curve which means by increasing and decreasing latitude, temperature drops."
   ]
  },
  {
   "cell_type": "code",
   "execution_count": 10,
   "metadata": {
    "ExecuteTime": {
     "end_time": "2020-10-13T11:33:44.613622Z",
     "start_time": "2020-10-13T11:33:44.431704Z"
    }
   },
   "outputs": [
    {
     "data": {
      "image/png": "[encoded data removed]",
      "text/plain": [
       "<Figure size 432x288 with 1 Axes>"
      ]
     },
     "metadata": {
      "needs_background": "light"
     },
     "output_type": "display_data"
    }
   ],
   "source": [
    "# Build a scatter plot for each data type\n",
    "x_values = city_weather_data[\"Lat\"]\n",
    "y_values = city_weather_data[\"Humidity\"]\n",
    "\n",
    "# Incorporate the other graph properties\n",
    "plt.title(\"City Latitude vs. Humidity (13/10/2020)\")\n",
    "plt.xlabel(\"Latitude\")\n",
    "plt.ylabel(\"Humidity (%)\")\n",
    "plt.scatter(x_values, y_values, edgecolors=\"black\", alpha = .85)\n",
    "plt.grid()\n",
    "\n",
    "# Save the figure\n",
    "plt.savefig(\"output_data/City Latitude vs. Humidity.png\")\n",
    "\n",
    "# Show plot\n",
    "plt.show()"
   ]
  },
  {
   "cell_type": "markdown",
   "metadata": {},
   "source": [
    "There is a low correlation and relationship between latitude and humidity."
   ]
  },
  {
   "cell_type": "code",
   "execution_count": 11,
   "metadata": {
    "ExecuteTime": {
     "end_time": "2020-10-13T11:34:02.163379Z",
     "start_time": "2020-10-13T11:34:01.972621Z"
    }
   },
   "outputs": [
    {
     "data": {
      "image/png": "[encoded data removed]",
      "text/plain": [
       "<Figure size 432x288 with 1 Axes>"
      ]
     },
     "metadata": {
      "needs_background": "light"
     },
     "output_type": "display_data"
    }
   ],
   "source": [
    "# Build a scatter plot for each data type\n",
    "x_values = city_weather_data[\"Lat\"]\n",
    "y_values = city_weather_data[\"Cloudiness\"]\n",
    "\n",
    "# Incorporate the other graph properties\n",
    "plt.title(\"City Latitude vs. Cloudiness (13/10/2020)\")\n",
    "plt.xlabel(\"Latitude\")\n",
    "plt.ylabel(\"Cloudiness (%)\")\n",
    "plt.scatter(x_values, y_values, edgecolors=\"black\", alpha = .85)\n",
    "plt.grid()\n",
    "\n",
    "# Save the figure\n",
    "plt.savefig(\"output_data/City Latitude vs. Cloudiness.png\")\n",
    "\n",
    "# Show plot\n",
    "plt.show()"
   ]
  },
  {
   "cell_type": "markdown",
   "metadata": {},
   "source": [
    "There is not any relationship between Cloudiness and latitude, they is widely spread across the plot."
   ]
  },
  {
   "cell_type": "code",
   "execution_count": 12,
   "metadata": {
    "ExecuteTime": {
     "end_time": "2020-10-13T11:34:12.651813Z",
     "start_time": "2020-10-13T11:34:12.449249Z"
    }
   },
   "outputs": [
    {
     "data": {
      "image/png": "[encoded data removed]",
      "text/plain": [
       "<Figure size 432x288 with 1 Axes>"
      ]
     },
     "metadata": {
      "needs_background": "light"
     },
     "output_type": "display_data"
    }
   ],
   "source": [
    "# Build a scatter plot for each data type\n",
    "x_values = city_weather_data[\"Lat\"]\n",
    "y_values = city_weather_data[\"Wind Speed\"]\n",
    "\n",
    "# Incorporate the other graph properties\n",
    "plt.title(\"City Latitude vs. Wind Speed (13/10/2020)\")\n",
    "plt.xlabel(\"Latitude\")\n",
    "plt.ylabel(\"Wind Speed (mph)\")\n",
    "plt.scatter(x_values, y_values, edgecolors=\"black\", alpha = .85)\n",
    "plt.grid()\n",
    "\n",
    "# Save the figure\n",
    "plt.savefig(\"output_data/City Latitude vs. Wind Speed.png\")\n",
    "\n",
    "# Show plot\n",
    "plt.show()"
   ]
  },
  {
   "cell_type": "markdown",
   "metadata": {},
   "source": [
    "There is a low correlation and relationship between latitude and wind speed. Highest wind speed is at around 60 latitude."
   ]
  },
  {
   "cell_type": "code",
   "execution_count": 13,
   "metadata": {
    "ExecuteTime": {
     "end_time": "2020-10-13T11:34:53.654633Z",
     "start_time": "2020-10-13T11:34:53.635912Z"
    }
   },
   "outputs": [
    {
     "data": {
      "text/html": [
       "<div>\n",
       "<style scoped>\n",
       "    .dataframe tbody tr th:only-of-type {\n",
       "        vertical-align: middle;\n",
       "    }\n",
       "\n",
       "    .dataframe tbody tr th {\n",
       "        vertical-align: top;\n",
       "    }\n",
       "\n",
       "    .dataframe thead th {\n",
       "        text-align: right;\n",
       "    }\n",
       "</style>\n",
       "<table border=\"1\" class=\"dataframe\">\n",
       "  <thead>\n",
       "    <tr style=\"text-align: right;\">\n",
       "      <th></th>\n",
       "      <th>City</th>\n",
       "      <th>Lat</th>\n",
       "      <th>Lng</th>\n",
       "      <th>Max Temp</th>\n",
       "      <th>Humidity</th>\n",
       "      <th>Cloudiness</th>\n",
       "      <th>Wind Speed</th>\n",
       "      <th>Country</th>\n",
       "      <th>Date</th>\n",
       "    </tr>\n",
       "  </thead>\n",
       "  <tbody>\n",
       "    <tr>\n",
       "      <th>0</th>\n",
       "      <td>kapaa</td>\n",
       "      <td>22.08</td>\n",
       "      <td>-159.32</td>\n",
       "      <td>80.60</td>\n",
       "      <td>78</td>\n",
       "      <td>40</td>\n",
       "      <td>13.87</td>\n",
       "      <td>US</td>\n",
       "      <td>1602588676</td>\n",
       "    </tr>\n",
       "    <tr>\n",
       "      <th>2</th>\n",
       "      <td>gazli</td>\n",
       "      <td>40.13</td>\n",
       "      <td>63.45</td>\n",
       "      <td>71.53</td>\n",
       "      <td>20</td>\n",
       "      <td>0</td>\n",
       "      <td>14.61</td>\n",
       "      <td>UZ</td>\n",
       "      <td>1602588676</td>\n",
       "    </tr>\n",
       "    <tr>\n",
       "      <th>3</th>\n",
       "      <td>college</td>\n",
       "      <td>64.86</td>\n",
       "      <td>-147.80</td>\n",
       "      <td>26.60</td>\n",
       "      <td>49</td>\n",
       "      <td>90</td>\n",
       "      <td>11.41</td>\n",
       "      <td>US</td>\n",
       "      <td>1602588677</td>\n",
       "    </tr>\n",
       "    <tr>\n",
       "      <th>6</th>\n",
       "      <td>sabha</td>\n",
       "      <td>27.04</td>\n",
       "      <td>14.43</td>\n",
       "      <td>91.18</td>\n",
       "      <td>17</td>\n",
       "      <td>1</td>\n",
       "      <td>2.71</td>\n",
       "      <td>LY</td>\n",
       "      <td>1602588677</td>\n",
       "    </tr>\n",
       "    <tr>\n",
       "      <th>8</th>\n",
       "      <td>provideniya</td>\n",
       "      <td>64.38</td>\n",
       "      <td>-173.30</td>\n",
       "      <td>29.66</td>\n",
       "      <td>90</td>\n",
       "      <td>10</td>\n",
       "      <td>2.30</td>\n",
       "      <td>RU</td>\n",
       "      <td>1602588678</td>\n",
       "    </tr>\n",
       "    <tr>\n",
       "      <th>...</th>\n",
       "      <td>...</td>\n",
       "      <td>...</td>\n",
       "      <td>...</td>\n",
       "      <td>...</td>\n",
       "      <td>...</td>\n",
       "      <td>...</td>\n",
       "      <td>...</td>\n",
       "      <td>...</td>\n",
       "      <td>...</td>\n",
       "    </tr>\n",
       "    <tr>\n",
       "      <th>576</th>\n",
       "      <td>jamestown</td>\n",
       "      <td>42.10</td>\n",
       "      <td>-79.24</td>\n",
       "      <td>52.00</td>\n",
       "      <td>93</td>\n",
       "      <td>90</td>\n",
       "      <td>14.99</td>\n",
       "      <td>US</td>\n",
       "      <td>1602588750</td>\n",
       "    </tr>\n",
       "    <tr>\n",
       "      <th>580</th>\n",
       "      <td>san patricio</td>\n",
       "      <td>28.02</td>\n",
       "      <td>-97.52</td>\n",
       "      <td>71.60</td>\n",
       "      <td>83</td>\n",
       "      <td>20</td>\n",
       "      <td>6.93</td>\n",
       "      <td>US</td>\n",
       "      <td>1602588684</td>\n",
       "    </tr>\n",
       "    <tr>\n",
       "      <th>586</th>\n",
       "      <td>sorochinsk</td>\n",
       "      <td>52.43</td>\n",
       "      <td>53.16</td>\n",
       "      <td>62.51</td>\n",
       "      <td>29</td>\n",
       "      <td>74</td>\n",
       "      <td>8.16</td>\n",
       "      <td>RU</td>\n",
       "      <td>1602588771</td>\n",
       "    </tr>\n",
       "    <tr>\n",
       "      <th>588</th>\n",
       "      <td>north myrtle beach</td>\n",
       "      <td>33.82</td>\n",
       "      <td>-78.68</td>\n",
       "      <td>71.60</td>\n",
       "      <td>94</td>\n",
       "      <td>90</td>\n",
       "      <td>3.36</td>\n",
       "      <td>US</td>\n",
       "      <td>1602588640</td>\n",
       "    </tr>\n",
       "    <tr>\n",
       "      <th>589</th>\n",
       "      <td>gazanjyk</td>\n",
       "      <td>39.24</td>\n",
       "      <td>55.52</td>\n",
       "      <td>74.97</td>\n",
       "      <td>16</td>\n",
       "      <td>0</td>\n",
       "      <td>18.45</td>\n",
       "      <td>TM</td>\n",
       "      <td>1602588771</td>\n",
       "    </tr>\n",
       "  </tbody>\n",
       "</table>\n",
       "<p>308 rows × 9 columns</p>\n",
       "</div>"
      ],
      "text/plain": [
       "                   City    Lat     Lng  Max Temp  Humidity  Cloudiness  \\\n",
       "0                 kapaa  22.08 -159.32     80.60        78          40   \n",
       "2                 gazli  40.13   63.45     71.53        20           0   \n",
       "3               college  64.86 -147.80     26.60        49          90   \n",
       "6                 sabha  27.04   14.43     91.18        17           1   \n",
       "8           provideniya  64.38 -173.30     29.66        90          10   \n",
       "..                  ...    ...     ...       ...       ...         ...   \n",
       "576           jamestown  42.10  -79.24     52.00        93          90   \n",
       "580        san patricio  28.02  -97.52     71.60        83          20   \n",
       "586          sorochinsk  52.43   53.16     62.51        29          74   \n",
       "588  north myrtle beach  33.82  -78.68     71.60        94          90   \n",
       "589            gazanjyk  39.24   55.52     74.97        16           0   \n",
       "\n",
       "     Wind Speed Country        Date  \n",
       "0         13.87      US  1602588676  \n",
       "2         14.61      UZ  1602588676  \n",
       "3         11.41      US  1602588677  \n",
       "6          2.71      LY  1602588677  \n",
       "8          2.30      RU  1602588678  \n",
       "..          ...     ...         ...  \n",
       "576       14.99      US  1602588750  \n",
       "580        6.93      US  1602588684  \n",
       "586        8.16      RU  1602588771  \n",
       "588        3.36      US  1602588640  \n",
       "589       18.45      TM  1602588771  \n",
       "\n",
       "[308 rows x 9 columns]"
      ]
     },
     "execution_count": 13,
     "metadata": {},
     "output_type": "execute_result"
    }
   ],
   "source": [
    "# create dataframe for northern hemisphere\n",
    "northern_hemisphere = city_weather_data.loc[city_weather_data[\"Lat\"] >= 0]\n",
    "northern_hemisphere"
   ]
  },
  {
   "cell_type": "code",
   "execution_count": 14,
   "metadata": {
    "ExecuteTime": {
     "end_time": "2020-10-13T11:34:55.922420Z",
     "start_time": "2020-10-13T11:34:55.904744Z"
    }
   },
   "outputs": [
    {
     "data": {
      "text/html": [
       "<div>\n",
       "<style scoped>\n",
       "    .dataframe tbody tr th:only-of-type {\n",
       "        vertical-align: middle;\n",
       "    }\n",
       "\n",
       "    .dataframe tbody tr th {\n",
       "        vertical-align: top;\n",
       "    }\n",
       "\n",
       "    .dataframe thead th {\n",
       "        text-align: right;\n",
       "    }\n",
       "</style>\n",
       "<table border=\"1\" class=\"dataframe\">\n",
       "  <thead>\n",
       "    <tr style=\"text-align: right;\">\n",
       "      <th></th>\n",
       "      <th>City</th>\n",
       "      <th>Lat</th>\n",
       "      <th>Lng</th>\n",
       "      <th>Max Temp</th>\n",
       "      <th>Humidity</th>\n",
       "      <th>Cloudiness</th>\n",
       "      <th>Wind Speed</th>\n",
       "      <th>Country</th>\n",
       "      <th>Date</th>\n",
       "    </tr>\n",
       "  </thead>\n",
       "  <tbody>\n",
       "    <tr>\n",
       "      <th>1</th>\n",
       "      <td>ancud</td>\n",
       "      <td>-41.87</td>\n",
       "      <td>-73.82</td>\n",
       "      <td>51.01</td>\n",
       "      <td>100</td>\n",
       "      <td>90</td>\n",
       "      <td>10.29</td>\n",
       "      <td>CL</td>\n",
       "      <td>1602588676</td>\n",
       "    </tr>\n",
       "    <tr>\n",
       "      <th>4</th>\n",
       "      <td>cape town</td>\n",
       "      <td>-33.93</td>\n",
       "      <td>18.42</td>\n",
       "      <td>66.99</td>\n",
       "      <td>48</td>\n",
       "      <td>12</td>\n",
       "      <td>18.34</td>\n",
       "      <td>ZA</td>\n",
       "      <td>1602588644</td>\n",
       "    </tr>\n",
       "    <tr>\n",
       "      <th>5</th>\n",
       "      <td>punta arenas</td>\n",
       "      <td>-53.15</td>\n",
       "      <td>-70.92</td>\n",
       "      <td>39.20</td>\n",
       "      <td>80</td>\n",
       "      <td>34</td>\n",
       "      <td>17.22</td>\n",
       "      <td>CL</td>\n",
       "      <td>1602588677</td>\n",
       "    </tr>\n",
       "    <tr>\n",
       "      <th>7</th>\n",
       "      <td>port alfred</td>\n",
       "      <td>-33.59</td>\n",
       "      <td>26.89</td>\n",
       "      <td>65.26</td>\n",
       "      <td>54</td>\n",
       "      <td>28</td>\n",
       "      <td>31.45</td>\n",
       "      <td>ZA</td>\n",
       "      <td>1602588678</td>\n",
       "    </tr>\n",
       "    <tr>\n",
       "      <th>10</th>\n",
       "      <td>rikitea</td>\n",
       "      <td>-23.12</td>\n",
       "      <td>-134.97</td>\n",
       "      <td>72.48</td>\n",
       "      <td>74</td>\n",
       "      <td>0</td>\n",
       "      <td>14.50</td>\n",
       "      <td>PF</td>\n",
       "      <td>1602588678</td>\n",
       "    </tr>\n",
       "    <tr>\n",
       "      <th>...</th>\n",
       "      <td>...</td>\n",
       "      <td>...</td>\n",
       "      <td>...</td>\n",
       "      <td>...</td>\n",
       "      <td>...</td>\n",
       "      <td>...</td>\n",
       "      <td>...</td>\n",
       "      <td>...</td>\n",
       "      <td>...</td>\n",
       "    </tr>\n",
       "    <tr>\n",
       "      <th>582</th>\n",
       "      <td>luanda</td>\n",
       "      <td>-8.84</td>\n",
       "      <td>13.23</td>\n",
       "      <td>82.40</td>\n",
       "      <td>65</td>\n",
       "      <td>20</td>\n",
       "      <td>9.17</td>\n",
       "      <td>AO</td>\n",
       "      <td>1602588770</td>\n",
       "    </tr>\n",
       "    <tr>\n",
       "      <th>583</th>\n",
       "      <td>ushuaia</td>\n",
       "      <td>-54.80</td>\n",
       "      <td>-68.30</td>\n",
       "      <td>38.86</td>\n",
       "      <td>78</td>\n",
       "      <td>51</td>\n",
       "      <td>9.95</td>\n",
       "      <td>AR</td>\n",
       "      <td>1602588680</td>\n",
       "    </tr>\n",
       "    <tr>\n",
       "      <th>584</th>\n",
       "      <td>arraial do cabo</td>\n",
       "      <td>-22.97</td>\n",
       "      <td>-42.03</td>\n",
       "      <td>77.00</td>\n",
       "      <td>69</td>\n",
       "      <td>57</td>\n",
       "      <td>14.99</td>\n",
       "      <td>BR</td>\n",
       "      <td>1602588689</td>\n",
       "    </tr>\n",
       "    <tr>\n",
       "      <th>585</th>\n",
       "      <td>richards bay</td>\n",
       "      <td>-28.78</td>\n",
       "      <td>32.04</td>\n",
       "      <td>85.06</td>\n",
       "      <td>42</td>\n",
       "      <td>0</td>\n",
       "      <td>8.70</td>\n",
       "      <td>ZA</td>\n",
       "      <td>1602588771</td>\n",
       "    </tr>\n",
       "    <tr>\n",
       "      <th>587</th>\n",
       "      <td>mataura</td>\n",
       "      <td>-46.19</td>\n",
       "      <td>168.86</td>\n",
       "      <td>48.00</td>\n",
       "      <td>75</td>\n",
       "      <td>99</td>\n",
       "      <td>15.01</td>\n",
       "      <td>NZ</td>\n",
       "      <td>1602588678</td>\n",
       "    </tr>\n",
       "  </tbody>\n",
       "</table>\n",
       "<p>282 rows × 9 columns</p>\n",
       "</div>"
      ],
      "text/plain": [
       "                City    Lat     Lng  Max Temp  Humidity  Cloudiness  \\\n",
       "1              ancud -41.87  -73.82     51.01       100          90   \n",
       "4          cape town -33.93   18.42     66.99        48          12   \n",
       "5       punta arenas -53.15  -70.92     39.20        80          34   \n",
       "7        port alfred -33.59   26.89     65.26        54          28   \n",
       "10           rikitea -23.12 -134.97     72.48        74           0   \n",
       "..               ...    ...     ...       ...       ...         ...   \n",
       "582           luanda  -8.84   13.23     82.40        65          20   \n",
       "583          ushuaia -54.80  -68.30     38.86        78          51   \n",
       "584  arraial do cabo -22.97  -42.03     77.00        69          57   \n",
       "585     richards bay -28.78   32.04     85.06        42           0   \n",
       "587          mataura -46.19  168.86     48.00        75          99   \n",
       "\n",
       "     Wind Speed Country        Date  \n",
       "1         10.29      CL  1602588676  \n",
       "4         18.34      ZA  1602588644  \n",
       "5         17.22      CL  1602588677  \n",
       "7         31.45      ZA  1602588678  \n",
       "10        14.50      PF  1602588678  \n",
       "..          ...     ...         ...  \n",
       "582        9.17      AO  1602588770  \n",
       "583        9.95      AR  1602588680  \n",
       "584       14.99      BR  1602588689  \n",
       "585        8.70      ZA  1602588771  \n",
       "587       15.01      NZ  1602588678  \n",
       "\n",
       "[282 rows x 9 columns]"
      ]
     },
     "execution_count": 14,
     "metadata": {},
     "output_type": "execute_result"
    }
   ],
   "source": [
    "# create dataframe for northern hemisphere\n",
    "southern_hemisphere = city_weather_data.loc[city_weather_data[\"Lat\"] < 0]\n",
    "southern_hemisphere"
   ]
  },
  {
   "cell_type": "code",
   "execution_count": 15,
   "metadata": {
    "ExecuteTime": {
     "end_time": "2020-10-13T11:34:58.101437Z",
     "start_time": "2020-10-13T11:34:57.902043Z"
    }
   },
   "outputs": [
    {
     "name": "stdout",
     "output_type": "stream",
     "text": [
      "The r-squared is: 0.8075286904050193\n",
      "The r-value is: -0.898626001407159\n"
     ]
    },
    {
     "data": {
      "image/png": "[encoded data removed]",
      "text/plain": [
       "<Figure size 432x288 with 1 Axes>"
      ]
     },
     "metadata": {
      "needs_background": "light"
     },
     "output_type": "display_data"
    }
   ],
   "source": [
    "# Build a scatter plot for each data type\n",
    "x_values = northern_hemisphere[\"Lat\"]\n",
    "y_values = northern_hemisphere[\"Max Temp\"]\n",
    "# Perform a linear regression on temperature vs. latitude\n",
    "# Get regression values\n",
    "(slope, intercept, rvalue, pvalue, stderr) = linregress(x_values, y_values)\n",
    "regress_values = x_values * slope + intercept\n",
    "\n",
    "# Create line equation string\n",
    "line_eq = \"y = \" + str(round(slope,2)) + \"x + \" + str(round(intercept,2))\n",
    "\n",
    "# Create Plot\n",
    "plt.scatter(x_values,y_values)\n",
    "plt.plot(x_values,regress_values,\"r-\")\n",
    "\n",
    "# Label plot and annotate the line equation\n",
    "plt.annotate(line_eq,(10,25),fontsize=15,color=\"red\")\n",
    "plt.title(\"Northern Hemisphere - Temperature (F) vs. Latitude (13/10/2020)\")\n",
    "plt.xlabel('Latitude')\n",
    "plt.ylabel('Max Temp (F)')\n",
    "\n",
    "# Print r square value\n",
    "print(f\"The r-squared is: {rvalue**2}\")\n",
    "print(f\"The r-value is: {rvalue}\")\n",
    "\n",
    "plt.savefig(\"output_data/Northern Hemisphere - Temperature (F) vs. Latitude.png\")\n",
    "# Show plot\n",
    "plt.show()"
   ]
  },
  {
   "cell_type": "markdown",
   "metadata": {
    "ExecuteTime": {
     "end_time": "2020-10-12T15:25:58.730652Z",
     "start_time": "2020-10-12T15:25:58.727514Z"
    }
   },
   "source": [
    "There is a strong negative correlation between latitude and max temperature for northern hemisphere."
   ]
  },
  {
   "cell_type": "code",
   "execution_count": 16,
   "metadata": {
    "ExecuteTime": {
     "end_time": "2020-10-13T11:35:04.083033Z",
     "start_time": "2020-10-13T11:35:03.901495Z"
    }
   },
   "outputs": [
    {
     "name": "stdout",
     "output_type": "stream",
     "text": [
      "The r-squared is: 0.7151295816591157\n",
      "The r-value is: 0.8456533460343639\n"
     ]
    },
    {
     "data": {
      "image/png": "[encoded data removed]",
      "text/plain": [
       "<Figure size 432x288 with 1 Axes>"
      ]
     },
     "metadata": {
      "needs_background": "light"
     },
     "output_type": "display_data"
    }
   ],
   "source": [
    "# Build a scatter plot for each data type\n",
    "x_values = southern_hemisphere[\"Lat\"]\n",
    "y_values = southern_hemisphere[\"Max Temp\"]\n",
    "# Perform a linear regression on temperature vs. latitude\n",
    "# Get regression values\n",
    "(slope, intercept, rvalue, pvalue, stderr) = linregress(x_values, y_values)\n",
    "regress_values = x_values * slope + intercept\n",
    "\n",
    "# Create line equation string\n",
    "line_eq = \"y = \" + str(round(slope,2)) + \"x + \" + str(round(intercept,2))\n",
    "\n",
    "# Create Plot\n",
    "plt.scatter(x_values,y_values)\n",
    "plt.plot(x_values,regress_values,\"r-\")\n",
    "\n",
    "# Label plot and annotate the line equation\n",
    "plt.annotate(line_eq,(-55,80),fontsize=15,color=\"red\")\n",
    "plt.title(\"Southern Hemisphere - Temperature (F) vs. Latitude (13/10/2020)\")\n",
    "plt.xlabel('Latitude')\n",
    "plt.ylabel('Max Temp (F)')\n",
    "\n",
    "# Print r square value\n",
    "print(f\"The r-squared is: {rvalue**2}\")\n",
    "print(f\"The r-value is: {rvalue}\")\n",
    "plt.savefig(\"output_data/Southern Hemisphere - Temperature (F) vs. Latitude.png\")\n",
    "# Show plot\n",
    "plt.show()"
   ]
  },
  {
   "cell_type": "markdown",
   "metadata": {},
   "source": [
    "There is a strong positive correlation between latitude and max temperature for southern hemisphere."
   ]
  },
  {
   "cell_type": "code",
   "execution_count": 17,
   "metadata": {
    "ExecuteTime": {
     "end_time": "2020-10-13T11:35:05.311445Z",
     "start_time": "2020-10-13T11:35:05.125640Z"
    }
   },
   "outputs": [
    {
     "name": "stdout",
     "output_type": "stream",
     "text": [
      "The r-squared is: 0.05040068836546336\n",
      "The r-value is: 0.22450097631294025\n"
     ]
    },
    {
     "data": {
      "image/png": "[encoded data removed]",
      "text/plain": [
       "<Figure size 432x288 with 1 Axes>"
      ]
     },
     "metadata": {
      "needs_background": "light"
     },
     "output_type": "display_data"
    }
   ],
   "source": [
    "# Build a scatter plot for each data type\n",
    "x_values = northern_hemisphere[\"Lat\"]\n",
    "y_values = northern_hemisphere[\"Humidity\"]\n",
    "# Perform a linear regression on temperature vs. latitude\n",
    "# Get regression values\n",
    "(slope, intercept, rvalue, pvalue, stderr) = linregress(x_values, y_values)\n",
    "regress_values = x_values * slope + intercept\n",
    "\n",
    "# Create line equation string\n",
    "line_eq = \"y = \" + str(round(slope,2)) + \"x + \" + str(round(intercept,2))\n",
    "\n",
    "# Create Plot\n",
    "plt.scatter(x_values,y_values)\n",
    "plt.plot(x_values,regress_values,\"r-\")\n",
    "\n",
    "# Label plot and annotate the line equation\n",
    "plt.annotate(line_eq,(10,40),fontsize=15,color=\"red\")\n",
    "plt.title(\"Northern Hemisphere - Humidity (%) vs. Latitude (13/10/2020)\")\n",
    "plt.xlabel('Latitude')\n",
    "plt.ylabel('Humidity (%)')\n",
    "\n",
    "# Print r square value\n",
    "print(f\"The r-squared is: {rvalue**2}\")\n",
    "print(f\"The r-value is: {rvalue}\")\n",
    "plt.savefig(\"output_data/Northern Hemisphere - Humidity (%) vs. Latitude.png\")\n",
    "# Show plot\n",
    "plt.show()"
   ]
  },
  {
   "cell_type": "markdown",
   "metadata": {},
   "source": [
    "There is a weak positive correlation between latitude and humidity for northern hemisphere."
   ]
  },
  {
   "cell_type": "code",
   "execution_count": 18,
   "metadata": {
    "ExecuteTime": {
     "end_time": "2020-10-13T11:35:06.568918Z",
     "start_time": "2020-10-13T11:35:06.394443Z"
    }
   },
   "outputs": [
    {
     "name": "stdout",
     "output_type": "stream",
     "text": [
      "The r-squared is: 8.310824538387723e-05\n",
      "The r-value is: 0.009116372380715766\n"
     ]
    },
    {
     "data": {
      "image/png": "[encoded data removed]",
      "text/plain": [
       "<Figure size 432x288 with 1 Axes>"
      ]
     },
     "metadata": {
      "needs_background": "light"
     },
     "output_type": "display_data"
    }
   ],
   "source": [
    "# Build a scatter plot for each data type\n",
    "x_values = southern_hemisphere[\"Lat\"]\n",
    "y_values = southern_hemisphere[\"Humidity\"]\n",
    "# Perform a linear regression on temperature vs. latitude\n",
    "# Get regression values\n",
    "(slope, intercept, rvalue, pvalue, stderr) = linregress(x_values, y_values)\n",
    "regress_values = x_values * slope + intercept\n",
    "\n",
    "# Create line equation string\n",
    "line_eq = \"y = \" + str(round(slope,2)) + \"x + \" + str(round(intercept,2))\n",
    "\n",
    "# Create Plot\n",
    "plt.scatter(x_values,y_values)\n",
    "plt.plot(x_values,regress_values,\"r-\")\n",
    "\n",
    "# Label plot and annotate the line equation\n",
    "plt.annotate(line_eq,(-55,80),fontsize=15,color=\"red\")\n",
    "plt.title(\"Southern Hemisphere - Humidity (%) vs. Latitude (13/10/2020)\")\n",
    "plt.xlabel('Latitude')\n",
    "plt.ylabel('Humidity (%)')\n",
    "\n",
    "# Print r square value\n",
    "print(f\"The r-squared is: {rvalue**2}\")\n",
    "print(f\"The r-value is: {rvalue}\")\n",
    "plt.savefig(\"output_data/Southern Hemisphere - Humidity (%) vs. Latitude.png\")\n",
    "# Show plot\n",
    "plt.show()"
   ]
  },
  {
   "cell_type": "markdown",
   "metadata": {},
   "source": [
    "There is no correlation between latitude and humidity for southern hemisphere."
   ]
  },
  {
   "cell_type": "code",
   "execution_count": 19,
   "metadata": {
    "ExecuteTime": {
     "end_time": "2020-10-13T11:35:07.933405Z",
     "start_time": "2020-10-13T11:35:07.743357Z"
    }
   },
   "outputs": [
    {
     "name": "stdout",
     "output_type": "stream",
     "text": [
      "The r-squared is: 0.04479366769611956\n",
      "The r-value is: 0.21164514569467346\n"
     ]
    },
    {
     "data": {
      "image/png": "[encoded data removed]",
      "text/plain": [
       "<Figure size 432x288 with 1 Axes>"
      ]
     },
     "metadata": {
      "needs_background": "light"
     },
     "output_type": "display_data"
    }
   ],
   "source": [
    "# Build a scatter plot for each data type\n",
    "x_values = northern_hemisphere[\"Lat\"]\n",
    "y_values = northern_hemisphere[\"Cloudiness\"]\n",
    "# Perform a linear regression on temperature vs. latitude\n",
    "# Get regression values\n",
    "(slope, intercept, rvalue, pvalue, stderr) = linregress(x_values, y_values)\n",
    "regress_values = x_values * slope + intercept\n",
    "\n",
    "# Create line equation string\n",
    "line_eq = \"y = \" + str(round(slope,2)) + \"x + \" + str(round(intercept,2))\n",
    "\n",
    "# Create Plot\n",
    "plt.scatter(x_values,y_values)\n",
    "plt.plot(x_values,regress_values,\"r-\")\n",
    "\n",
    "# Label plot and annotate the line equation\n",
    "plt.annotate(line_eq,(20,64),fontsize=15,color=\"red\")\n",
    "plt.title(\"Northern Hemisphere - Cloudiness (%) vs. Latitude (13/10/2020)\")\n",
    "plt.xlabel('Latitude')\n",
    "plt.ylabel('Cloudiness (%)')\n",
    "\n",
    "# Print r square value\n",
    "print(f\"The r-squared is: {rvalue**2}\")\n",
    "print(f\"The r-value is: {rvalue}\")\n",
    "plt.savefig(\"output_data/Northern Hemisphere - Cloudiness (%) vs. Latitude.png\")\n",
    "# Show plot\n",
    "plt.show()"
   ]
  },
  {
   "cell_type": "markdown",
   "metadata": {},
   "source": [
    "There is a weak positive correlation between latitude and cloudiness for northern hemisphere."
   ]
  },
  {
   "cell_type": "code",
   "execution_count": 20,
   "metadata": {
    "ExecuteTime": {
     "end_time": "2020-10-13T11:35:09.584964Z",
     "start_time": "2020-10-13T11:35:09.405919Z"
    }
   },
   "outputs": [
    {
     "name": "stdout",
     "output_type": "stream",
     "text": [
      "The r-squared is: 0.0013346506997084632\n",
      "The r-value is: 0.03653287149552391\n"
     ]
    },
    {
     "data": {
      "image/png": "[encoded data removed]",
      "text/plain": [
       "<Figure size 432x288 with 1 Axes>"
      ]
     },
     "metadata": {
      "needs_background": "light"
     },
     "output_type": "display_data"
    }
   ],
   "source": [
    "# Build a scatter plot for each data type\n",
    "x_values = southern_hemisphere[\"Lat\"]\n",
    "y_values = southern_hemisphere[\"Cloudiness\"]\n",
    "# Perform a linear regression on temperature vs. latitude\n",
    "# Get regression values\n",
    "(slope, intercept, rvalue, pvalue, stderr) = linregress(x_values, y_values)\n",
    "regress_values = x_values * slope + intercept\n",
    "\n",
    "# Create line equation string\n",
    "line_eq = \"y = \" + str(round(slope,2)) + \"x + \" + str(round(intercept,2))\n",
    "\n",
    "# Create Plot\n",
    "plt.scatter(x_values,y_values)\n",
    "plt.plot(x_values,regress_values,\"r-\")\n",
    "\n",
    "# Label plot and annotate the line equation\n",
    "plt.annotate(line_eq,(-55,60),fontsize=15,color=\"red\")\n",
    "plt.title(\"Southern Hemisphere - Cloudiness (%) vs. Latitude (13/10/2020)\")\n",
    "plt.xlabel('Latitude')\n",
    "plt.ylabel('Cloudiness (%)')\n",
    "\n",
    "# Print r square value\n",
    "print(f\"The r-squared is: {rvalue**2}\")\n",
    "print(f\"The r-value is: {rvalue}\")\n",
    "plt.savefig(\"output_data/Southern Hemisphere - Cloudiness (%) vs. Latitude.png\")\n",
    "# Show plot\n",
    "plt.show()"
   ]
  },
  {
   "cell_type": "markdown",
   "metadata": {},
   "source": [
    "There is no correlation between latitude and cloudiness for southern hemisphere."
   ]
  },
  {
   "cell_type": "code",
   "execution_count": 21,
   "metadata": {
    "ExecuteTime": {
     "end_time": "2020-10-13T11:35:11.135436Z",
     "start_time": "2020-10-13T11:35:10.933176Z"
    }
   },
   "outputs": [
    {
     "name": "stdout",
     "output_type": "stream",
     "text": [
      "The r-squared is: 0.00128601776254842\n",
      "The r-value is: 0.03586108981261473\n"
     ]
    },
    {
     "data": {
      "image/png": "[encoded data removed]",
      "text/plain": [
       "<Figure size 432x288 with 1 Axes>"
      ]
     },
     "metadata": {
      "needs_background": "light"
     },
     "output_type": "display_data"
    }
   ],
   "source": [
    "# Build a scatter plot for each data type\n",
    "x_values = northern_hemisphere[\"Lat\"]\n",
    "y_values = northern_hemisphere[\"Wind Speed\"]\n",
    "# Perform a linear regression on temperature vs. latitude\n",
    "# Get regression values\n",
    "(slope, intercept, rvalue, pvalue, stderr) = linregress(x_values, y_values)\n",
    "regress_values = x_values * slope + intercept\n",
    "\n",
    "# Create line equation string\n",
    "line_eq = \"y = \" + str(round(slope,2)) + \"x + \" + str(round(intercept,2))\n",
    "\n",
    "# Create Plot\n",
    "plt.scatter(x_values,y_values)\n",
    "plt.plot(x_values,regress_values,\"r-\")\n",
    "\n",
    "# Label plot and annotate the line equation\n",
    "plt.annotate(line_eq,(20,20),fontsize=15,color=\"red\")\n",
    "plt.title(\"Northern Hemisphere - Wind Speed (mph) vs. Latitude (13/10/2020)\")\n",
    "plt.xlabel('Latitude')\n",
    "plt.ylabel('Wind Speed (mph)')\n",
    "\n",
    "# Print r square value\n",
    "print(f\"The r-squared is: {rvalue**2}\")\n",
    "print(f\"The r-value is: {rvalue}\")\n",
    "plt.savefig(\"output_data/Northern Hemisphere - Wind Speed (mph) vs. Latitude.png\")\n",
    "# Show plot\n",
    "plt.show()"
   ]
  },
  {
   "cell_type": "markdown",
   "metadata": {},
   "source": [
    "There is no correlation between latitude and wind speed for northern hemisphere."
   ]
  },
  {
   "cell_type": "code",
   "execution_count": 22,
   "metadata": {
    "ExecuteTime": {
     "end_time": "2020-10-13T11:35:12.660688Z",
     "start_time": "2020-10-13T11:35:12.473251Z"
    }
   },
   "outputs": [
    {
     "name": "stdout",
     "output_type": "stream",
     "text": [
      "The r-squared is: 0.04968314689229616\n",
      "The r-value is: -0.2228971666313777\n"
     ]
    },
    {
     "data": {
      "image/png": "[encoded data removed]",
      "text/plain": [
       "<Figure size 432x288 with 1 Axes>"
      ]
     },
     "metadata": {
      "needs_background": "light"
     },
     "output_type": "display_data"
    }
   ],
   "source": [
    "# Build a scatter plot for each data type\n",
    "x_values = southern_hemisphere[\"Lat\"]\n",
    "y_values = southern_hemisphere[\"Wind Speed\"]\n",
    "# Perform a linear regression on temperature vs. latitude\n",
    "# Get regression values\n",
    "(slope, intercept, rvalue, pvalue, stderr) = linregress(x_values, y_values)\n",
    "regress_values = x_values * slope + intercept\n",
    "\n",
    "# Create line equation string\n",
    "line_eq = \"y = \" + str(round(slope,2)) + \"x + \" + str(round(intercept,2))\n",
    "\n",
    "# Create Plot\n",
    "plt.scatter(x_values,y_values)\n",
    "plt.plot(x_values,regress_values,\"r-\")\n",
    "\n",
    "# Label plot and annotate the line equation\n",
    "plt.annotate(line_eq,(-55,12),fontsize=15,color=\"red\")\n",
    "plt.title(\"Southern Hemisphere - Wind Speed (mph) vs. Latitude (13/10/2020)\")\n",
    "plt.xlabel('Latitude')\n",
    "plt.ylabel('Wind Speed (mph)')\n",
    "\n",
    "# Print r square value\n",
    "print(f\"The r-squared is: {rvalue**2}\")\n",
    "print(f\"The r-value is: {rvalue}\")\n",
    "plt.savefig(\"output_data/Southern Hemisphere - Wind Speed (mph) vs. Latitude.png\")\n",
    "# Show plot\n",
    "plt.show()"
   ]
  },
  {
   "cell_type": "markdown",
   "metadata": {},
   "source": [
    "There is a weak positive correlation between latitude and wind speed for southern hemisphere."
   ]
  }
 ],
 "metadata": {
  "hide_input": false,
  "kernelspec": {
   "display_name": "Python 3",
   "language": "python",
   "name": "python3"
  },
  "language_info": {
   "codemirror_mode": {
    "name": "ipython",
    "version": 3
   },
   "file_extension": ".py",
   "mimetype": "text/x-python",
   "name": "python",
   "nbconvert_exporter": "python",
   "pygments_lexer": "ipython3",
   "version": "3.8.3"
  },
  "toc": {
   "base_numbering": 1,
   "nav_menu": {},
   "number_sections": true,
   "sideBar": true,
   "skip_h1_title": false,
   "title_cell": "Table of Contents",
   "title_sidebar": "Contents",
   "toc_cell": false,
   "toc_position": {},
   "toc_section_display": true,
   "toc_window_display": false
  },
  "varInspector": {
   "cols": {
    "lenName": 16,
    "lenType": 16,
    "lenVar": 40
   },
   "kernels_config": {
    "python": {
     "delete_cmd_postfix": "",
     "delete_cmd_prefix": "del ",
     "library": "var_list.py",
     "varRefreshCmd": "print(var_dic_list())"
    },
    "r": {
     "delete_cmd_postfix": ") ",
     "delete_cmd_prefix": "rm(",
     "library": "var_list.r",
     "varRefreshCmd": "cat(var_dic_list()) "
    }
   },
   "types_to_exclude": [
    "module",
    "function",
    "builtin_function_or_method",
    "instance",
    "_Feature"
   ],
   "window_display": false
  }
 },
 "nbformat": 4,
 "nbformat_minor": 4
}
